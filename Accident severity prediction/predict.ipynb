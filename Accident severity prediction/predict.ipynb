{
 "cells": [
  {
   "cell_type": "code",
   "execution_count": 144,
   "metadata": {},
   "outputs": [],
   "source": [
    "import pickle\n",
    "import numpy as np\n",
    "import pandas as pd"
   ]
  },
  {
   "cell_type": "code",
   "execution_count": 145,
   "metadata": {},
   "outputs": [],
   "source": [
    "# Load encoders for transformation\n",
    "# with open('le.pkl', 'rb') as file:\n",
    "#     le_model = pickle.load(file)"
   ]
  },
  {
   "cell_type": "code",
   "execution_count": 146,
   "metadata": {},
   "outputs": [],
   "source": [
    "le_model=pickle.load(open('le.pkl','rb'))\n",
    "rf_model=pickle.load(open('rf.pkl','rb'))"
   ]
  },
  {
   "cell_type": "code",
   "execution_count": 147,
   "metadata": {},
   "outputs": [
    {
     "data": {
      "text/plain": [
       "[LabelEncoder(),\n",
       " LabelEncoder(),\n",
       " LabelEncoder(),\n",
       " LabelEncoder(),\n",
       " LabelEncoder(),\n",
       " LabelEncoder(),\n",
       " LabelEncoder(),\n",
       " LabelEncoder(),\n",
       " LabelEncoder(),\n",
       " LabelEncoder(),\n",
       " LabelEncoder(),\n",
       " LabelEncoder(),\n",
       " LabelEncoder(),\n",
       " LabelEncoder(),\n",
       " LabelEncoder(),\n",
       " LabelEncoder(),\n",
       " LabelEncoder()]"
      ]
     },
     "execution_count": 147,
     "metadata": {},
     "output_type": "execute_result"
    }
   ],
   "source": [
    "le_model"
   ]
  },
  {
   "cell_type": "code",
   "execution_count": 148,
   "metadata": {},
   "outputs": [],
   "source": [
    "data=[17,2,'Monday','18-30','Male','Above high school','Employee','1-2yr','Automobile','Owner','Residential areas',\n",
    "            'other','Tangent road with flat terrain','No junction','Asphalt roads','Dry','Daylight','Normal','Collision with roadside-parked vehicles',\n",
    "            2,2,'Going straight','Moving Backward']"
   ]
  },
  {
   "cell_type": "code",
   "execution_count": 149,
   "metadata": {},
   "outputs": [
    {
     "data": {
      "text/plain": [
       "[17,\n",
       " 2,\n",
       " 'Monday',\n",
       " '18-30',\n",
       " 'Male',\n",
       " 'Above high school',\n",
       " 'Employee',\n",
       " '1-2yr',\n",
       " 'Automobile',\n",
       " 'Owner',\n",
       " 'Residential areas',\n",
       " 'other',\n",
       " 'Tangent road with flat terrain',\n",
       " 'No junction',\n",
       " 'Asphalt roads',\n",
       " 'Dry',\n",
       " 'Daylight',\n",
       " 'Normal',\n",
       " 'Collision with roadside-parked vehicles',\n",
       " 2,\n",
       " 2,\n",
       " 'Going straight',\n",
       " 'Moving Backward']"
      ]
     },
     "execution_count": 149,
     "metadata": {},
     "output_type": "execute_result"
    }
   ],
   "source": [
    "data"
   ]
  },
  {
   "cell_type": "code",
   "execution_count": null,
   "metadata": {},
   "outputs": [],
   "source": [
    "# cols=['Day_of_week','Sex_of_driver','Educational_level','Vehicle_driver_relation','Type_of_vehicle','Owner_of_vehicle',\n",
    "#     'Area_accident_occured','Lanes_or_Medians','Road_allignment','Types_of_Junction','Road_surface_type','Road_surface_conditions'\n",
    "#     ,'Light_conditions','Weather_conditions','Type_of_collision','Vehicle_movement','Cause_of_accident']"
   ]
  },
  {
   "cell_type": "code",
   "execution_count": 151,
   "metadata": {},
   "outputs": [],
   "source": [
    "inx=[2,4,5,6,8,9,10,11,12,13,14,15,16,17,18,21,22]"
   ]
  },
  {
   "cell_type": "code",
   "execution_count": 152,
   "metadata": {},
   "outputs": [],
   "source": [
    "for i in range(len(inx)):\n",
    "    val=inx[i]\n",
    "    data[val]=int(le_model[i].transform([data[val]])[0])"
   ]
  },
  {
   "cell_type": "code",
   "execution_count": 153,
   "metadata": {},
   "outputs": [
    {
     "data": {
      "text/plain": [
       "[17,\n",
       " 2,\n",
       " 1,\n",
       " '18-30',\n",
       " 1,\n",
       " 0,\n",
       " 0,\n",
       " '1-2yr',\n",
       " 0,\n",
       " 3,\n",
       " 8,\n",
       " 5,\n",
       " 5,\n",
       " 1,\n",
       " 0,\n",
       " 0,\n",
       " 3,\n",
       " 2,\n",
       " 3,\n",
       " 2,\n",
       " 2,\n",
       " 2,\n",
       " 8]"
      ]
     },
     "execution_count": 153,
     "metadata": {},
     "output_type": "execute_result"
    }
   ],
   "source": [
    "\n",
    "data"
   ]
  },
  {
   "cell_type": "code",
   "execution_count": 154,
   "metadata": {},
   "outputs": [],
   "source": [
    "ages={\n",
    "    'Under 18':0,\n",
    "    '18-30':1,\n",
    "    '31-50':2,\n",
    "    'Over 51':3,\n",
    "    'Unknown':-1\n",
    "}"
   ]
  },
  {
   "cell_type": "code",
   "execution_count": 155,
   "metadata": {},
   "outputs": [],
   "source": [
    "data[3]=ages[data[3]]"
   ]
  },
  {
   "cell_type": "code",
   "execution_count": 156,
   "metadata": {},
   "outputs": [
    {
     "data": {
      "text/plain": [
       "[17, 2, 1, 1, 1, 0, 0, '1-2yr', 0, 3, 8, 5, 5, 1, 0, 0, 3, 2, 3, 2, 2, 2, 8]"
      ]
     },
     "execution_count": 156,
     "metadata": {},
     "output_type": "execute_result"
    }
   ],
   "source": [
    "data"
   ]
  },
  {
   "cell_type": "code",
   "execution_count": 157,
   "metadata": {},
   "outputs": [],
   "source": [
    "exp={\n",
    "    'No Licence':0,\n",
    "    'Below 1yr':1,\n",
    "    '1-2yr':2,\n",
    "    '2-5yr':3,\n",
    "    '5-10yr':4,\n",
    "    'Above 10yr':5,\n",
    "    'unknown':-1\n",
    "}"
   ]
  },
  {
   "cell_type": "code",
   "execution_count": 158,
   "metadata": {},
   "outputs": [],
   "source": [
    "data[7]=exp[data[7]]"
   ]
  },
  {
   "cell_type": "code",
   "execution_count": 159,
   "metadata": {},
   "outputs": [
    {
     "data": {
      "text/plain": [
       "[17, 2, 1, 1, 1, 0, 0, 2, 0, 3, 8, 5, 5, 1, 0, 0, 3, 2, 3, 2, 2, 2, 8]"
      ]
     },
     "execution_count": 159,
     "metadata": {},
     "output_type": "execute_result"
    }
   ],
   "source": [
    "data"
   ]
  },
  {
   "cell_type": "code",
   "execution_count": null,
   "metadata": {},
   "outputs": [],
   "source": []
  },
  {
   "cell_type": "code",
   "execution_count": 160,
   "metadata": {},
   "outputs": [
    {
     "name": "stderr",
     "output_type": "stream",
     "text": [
      "C:\\Users\\nalla\\AppData\\Roaming\\Python\\Python313\\site-packages\\sklearn\\base.py:493: UserWarning: X does not have valid feature names, but RandomForestClassifier was fitted with feature names\n",
      "  warnings.warn(\n"
     ]
    }
   ],
   "source": [
    "prediction=int(rf_model.predict([data])[0])"
   ]
  },
  {
   "cell_type": "code",
   "execution_count": 161,
   "metadata": {},
   "outputs": [
    {
     "data": {
      "text/plain": [
       "1"
      ]
     },
     "execution_count": 161,
     "metadata": {},
     "output_type": "execute_result"
    }
   ],
   "source": [
    "prediction"
   ]
  },
  {
   "cell_type": "code",
   "execution_count": 162,
   "metadata": {},
   "outputs": [
    {
     "name": "stdout",
     "output_type": "stream",
     "text": [
      "Prediction: Slight Injury\n"
     ]
    }
   ],
   "source": [
    "if(prediction==1):\n",
    "    print(\"Prediction: Slight Injury\")\n",
    "elif(prediction==2):\n",
    "    print(\"Prediction: Serious Injury\")\n",
    "else:\n",
    "    print(\"Prediction: Fatal Injury\")"
   ]
  },
  {
   "cell_type": "code",
   "execution_count": null,
   "metadata": {},
   "outputs": [],
   "source": []
  }
 ],
 "metadata": {
  "kernelspec": {
   "display_name": "Python 3",
   "language": "python",
   "name": "python3"
  },
  "language_info": {
   "codemirror_mode": {
    "name": "ipython",
    "version": 3
   },
   "file_extension": ".py",
   "mimetype": "text/x-python",
   "name": "python",
   "nbconvert_exporter": "python",
   "pygments_lexer": "ipython3",
   "version": "3.13.0"
  }
 },
 "nbformat": 4,
 "nbformat_minor": 2
}
